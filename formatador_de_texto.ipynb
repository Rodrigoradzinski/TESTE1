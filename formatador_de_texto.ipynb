{
  "nbformat": 4,
  "nbformat_minor": 0,
  "metadata": {
    "colab": {
      "provenance": [],
      "authorship_tag": "ABX9TyMSb+pjZiPTRpQiv9sXZu3d",
      "include_colab_link": true
    },
    "kernelspec": {
      "name": "python3",
      "display_name": "Python 3"
    },
    "language_info": {
      "name": "python"
    }
  },
  "cells": [
    {
      "cell_type": "markdown",
      "metadata": {
        "id": "view-in-github",
        "colab_type": "text"
      },
      "source": [
        "<a href=\"https://colab.research.google.com/github/Rodrigoradzinski/TESTE1/blob/main/formatador_de_texto.ipynb\" target=\"_parent\"><img src=\"https://colab.research.google.com/assets/colab-badge.svg\" alt=\"Open In Colab\"/></a>"
      ]
    },
    {
      "cell_type": "code",
      "execution_count": 4,
      "metadata": {
        "colab": {
          "base_uri": "https://localhost:8080/"
        },
        "id": "rsjg7-1vEW0E",
        "outputId": "dab89ed0-a123-44bc-ac31-afb47ce5425a"
      },
      "outputs": [
        {
          "output_type": "stream",
          "name": "stdout",
          "text": [
            "Por favor, insira o texto que você gostaria de alinhar: Parte 1 – Obtenção de dados via API\n",
            "#----------------------------------------------------------------------------------------#\n",
            "# Parte 1 – Obtenção de dados via API\n",
            "#----------------------------------------------------------------------------------------#\n"
          ]
        }
      ],
      "source": [
        "def justify_text(text, line_length=88):  # Reduzindo para 88 para acomodar o '# ' inicial\n",
        "    words = text.split()\n",
        "    lines = []\n",
        "    current_line = []\n",
        "    current_length = 0\n",
        "\n",
        "    for word in words:\n",
        "        if current_length + len(word) + len(current_line) <= line_length:\n",
        "            current_line.append(word)\n",
        "            current_length += len(word)\n",
        "        else:\n",
        "            for i in range(line_length - current_length):\n",
        "                current_line[i % (len(current_line) - 1)] += ' '\n",
        "            lines.append(\"#| \" + ''.join(current_line))\n",
        "\n",
        "            current_line = [word]\n",
        "            current_length = len(word)\n",
        "\n",
        "    lines.append(\"# \" + ' '.join(current_line))\n",
        "    return '\\n'.join(lines)\n",
        "\n",
        "if __name__ == \"__main__\":\n",
        "    user_text = input(\"Por favor, insira o texto que você gostaria de alinhar: \")\n",
        "\n",
        "    print(\"#\" + \"-\"*88 + \"#\")\n",
        "    print(justify_text(user_text))\n",
        "    print(\"#\" + \"-\"*88 + \"#\")\n",
        "\n"
      ]
    },
    {
      "cell_type": "code",
      "source": [
        "def justify_text(text):\n",
        "    words = text.split()\n",
        "    lines = []\n",
        "    current_line = []\n",
        "    current_length = 0\n",
        "\n",
        "    for word in words:\n",
        "        if current_length + len(word) + len(current_line) - 1 < 86:  # 86 para acomodar '#|' e '|'\n",
        "            current_line.append(word)\n",
        "            current_length += len(word)\n",
        "        else:\n",
        "            for i in range(86 - current_length):\n",
        "                current_line[i % (len(current_line) - 1)] += ' '\n",
        "            lines.append(\"#|\" + ''.join(current_line) + \"|\")\n",
        "\n",
        "            current_line = [word]\n",
        "            current_length = len(word)\n",
        "\n",
        "    last_line = ' '.join(current_line)\n",
        "    last_line = last_line.ljust(86, ' ')\n",
        "    lines.append(\"#|\" + last_line + \"|\")\n",
        "\n",
        "    return '\\n'.join(lines)\n",
        "\n",
        "def format_with_bars(text):\n",
        "    separator = \"#|\" + \"=\" * 86 + \"|\"\n",
        "    print(\"                    \\n\\n\\n\\n\\n\\n       \")\n",
        "   # print(separator)\n",
        "    print(justify_text(text))\n",
        "    print(separator)\n",
        "\n",
        "if __name__ == \"__main__\":\n",
        "    user_text = input(\"\")\n",
        "    format_with_bars(user_text)\n"
      ],
      "metadata": {
        "colab": {
          "base_uri": "https://localhost:8080/"
        },
        "id": "s8m9D-U_GVYE",
        "outputId": "1650998b-a39b-43a4-9f2e-e8117e0964b2"
      },
      "execution_count": 47,
      "outputs": [
        {
          "output_type": "stream",
          "name": "stdout",
          "text": [
            "A primeira ideia era obter dados do Twitter, porém após a compra dele pelo Elon Musk custa 100 dólares mensais continuar pegando dados de lá, logo vamos trabalhar com o Spotify, que já existe um pacote em R para trabalhar com sua API\n",
            "                    \n",
            "\n",
            "\n",
            "\n",
            "\n",
            "\n",
            "       \n",
            "#|A  primeira  ideia era obter dados do Twitter, porém após a compra dele pelo Elon Musk|\n",
            "#|custa  100  dólares  mensais continuar pegando dados de lá, logo vamos trabalhar com o|\n",
            "#|Spotify, que já existe um pacote em R para trabalhar com sua API                      |\n",
            "#|======================================================================================|\n"
          ]
        }
      ]
    }
  ]
}